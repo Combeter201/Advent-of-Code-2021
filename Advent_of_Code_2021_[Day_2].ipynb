{
  "nbformat": 4,
  "nbformat_minor": 0,
  "metadata": {
    "colab": {
      "name": "Advent of Code 2021 [Day 2].ipynb",
      "provenance": [],
      "collapsed_sections": [],
      "authorship_tag": "ABX9TyPyUUoGQ+xA4HS1y1NvWMRF",
      "include_colab_link": true
    },
    "kernelspec": {
      "name": "python3",
      "display_name": "Python 3"
    },
    "language_info": {
      "name": "python"
    }
  },
  "cells": [
    {
      "cell_type": "markdown",
      "metadata": {
        "id": "view-in-github",
        "colab_type": "text"
      },
      "source": [
        "<a href=\"https://colab.research.google.com/github/Combeter201/Advent-of-Code-2021/blob/main/Advent_of_Code_2021_%5BDay_2%5D.ipynb\" target=\"_parent\"><img src=\"https://colab.research.google.com/assets/colab-badge.svg\" alt=\"Open In Colab\"/></a>"
      ]
    },
    {
      "cell_type": "markdown",
      "metadata": {
        "id": "o5i-Pa_muZrc"
      },
      "source": [
        "# **Advent of Code 2021**\n",
        "### *Day 2* 🎄"
      ]
    },
    {
      "cell_type": "code",
      "metadata": {
        "id": "zvav0jp6ujyZ",
        "colab": {
          "base_uri": "https://localhost:8080/"
        },
        "outputId": "6a577f7e-9ca7-47c7-ea99-ed946030cd46"
      },
      "source": [
        "with open('input.txt') as file:\n",
        "    lines = file.read().splitlines()\n",
        "    lines = [x.split(' ') for x in lines]"
      ],
      "execution_count": 46,
      "outputs": [
        {
          "output_type": "stream",
          "name": "stdout",
          "text": [
            "[['forward', '3'], ['down', '7'], ['forward', '8'], ['down', '9'], ['forward', '3'], ['down', '5'], ['down', '9'], ['down', '6'], ['forward', '1'], ['forward', '8'], ['forward', '9'], ['forward', '3'], ['down', '7'], ['down', '8'], ['up', '3'], ['down', '5'], ['down', '8'], ['down', '9'], ['forward', '5'], ['forward', '6'], ['down', '2'], ['forward', '1'], ['forward', '3'], ['down', '9'], ['up', '6'], ['up', '2'], ['down', '7'], ['down', '9'], ['forward', '2'], ['down', '9'], ['up', '3'], ['forward', '5'], ['up', '9'], ['up', '9'], ['forward', '4'], ['down', '6'], ['up', '7'], ['up', '8'], ['up', '6'], ['up', '2'], ['down', '7'], ['forward', '9'], ['down', '4'], ['forward', '2'], ['forward', '1'], ['up', '7'], ['down', '2'], ['down', '8'], ['down', '8'], ['down', '2'], ['down', '7'], ['down', '3'], ['up', '4'], ['down', '7'], ['down', '1'], ['down', '7'], ['down', '7'], ['forward', '8'], ['forward', '1'], ['forward', '5'], ['forward', '1'], ['forward', '9'], ['forward', '3'], ['forward', '5'], ['down', '3'], ['forward', '9'], ['down', '4'], ['down', '2'], ['forward', '5'], ['down', '4'], ['down', '4'], ['down', '4'], ['down', '9'], ['down', '6'], ['down', '5'], ['forward', '2'], ['down', '2'], ['down', '8'], ['down', '8'], ['down', '7'], ['down', '2'], ['down', '8'], ['down', '6'], ['down', '4'], ['down', '7'], ['up', '8'], ['up', '7'], ['up', '6'], ['down', '4'], ['down', '2'], ['up', '4'], ['up', '8'], ['up', '4'], ['down', '4'], ['down', '3'], ['forward', '7'], ['forward', '8'], ['up', '1'], ['up', '1'], ['up', '7'], ['forward', '2'], ['down', '2'], ['forward', '7'], ['forward', '7'], ['forward', '7'], ['down', '2'], ['down', '2'], ['forward', '5'], ['down', '3'], ['forward', '3'], ['down', '6'], ['down', '9'], ['down', '4'], ['down', '1'], ['forward', '2'], ['forward', '2'], ['down', '8'], ['down', '9'], ['up', '3'], ['forward', '8'], ['down', '7'], ['forward', '6'], ['forward', '6'], ['down', '9'], ['up', '2'], ['up', '9'], ['down', '2'], ['down', '8'], ['up', '2'], ['forward', '6'], ['down', '5'], ['up', '9'], ['forward', '6'], ['down', '3'], ['down', '9'], ['forward', '8'], ['forward', '8'], ['forward', '1'], ['forward', '6'], ['down', '7'], ['forward', '3'], ['forward', '5'], ['forward', '6'], ['down', '1'], ['down', '1'], ['forward', '3'], ['forward', '8'], ['forward', '8'], ['up', '5'], ['down', '6'], ['up', '5'], ['down', '1'], ['up', '3'], ['down', '6'], ['forward', '1'], ['up', '3'], ['up', '4'], ['down', '8'], ['down', '2'], ['up', '2'], ['forward', '1'], ['forward', '2'], ['forward', '6'], ['up', '2'], ['down', '3'], ['up', '5'], ['down', '5'], ['down', '7'], ['up', '6'], ['up', '6'], ['down', '8'], ['forward', '7'], ['forward', '2'], ['forward', '3'], ['up', '5'], ['down', '5'], ['down', '6'], ['down', '4'], ['forward', '8'], ['up', '1'], ['forward', '5'], ['up', '1'], ['forward', '4'], ['forward', '3'], ['forward', '4'], ['down', '2'], ['up', '5'], ['up', '4'], ['down', '5'], ['forward', '1'], ['forward', '8'], ['down', '7'], ['down', '1'], ['down', '7'], ['forward', '6'], ['down', '4'], ['down', '6'], ['forward', '6'], ['down', '8'], ['forward', '7'], ['down', '4'], ['down', '8'], ['up', '7'], ['down', '6'], ['down', '2'], ['up', '8'], ['down', '7'], ['down', '8'], ['down', '6'], ['down', '3'], ['up', '1'], ['down', '7'], ['forward', '1'], ['down', '3'], ['down', '5'], ['down', '9'], ['down', '3'], ['forward', '1'], ['forward', '4'], ['forward', '2'], ['down', '8'], ['forward', '7'], ['down', '3'], ['down', '7'], ['forward', '7'], ['down', '4'], ['down', '5'], ['down', '1'], ['forward', '2'], ['down', '7'], ['forward', '3'], ['forward', '4'], ['down', '8'], ['up', '6'], ['down', '4'], ['up', '5'], ['forward', '5'], ['forward', '7'], ['up', '8'], ['forward', '6'], ['up', '3'], ['forward', '9'], ['up', '9'], ['down', '1'], ['down', '2'], ['forward', '6'], ['down', '5'], ['forward', '6'], ['down', '7'], ['forward', '9'], ['down', '2'], ['up', '5'], ['down', '2'], ['forward', '3'], ['up', '7'], ['forward', '3'], ['down', '4'], ['forward', '7'], ['forward', '8'], ['down', '5'], ['up', '7'], ['up', '8'], ['forward', '7'], ['down', '4'], ['forward', '9'], ['forward', '6'], ['down', '2'], ['forward', '3'], ['up', '8'], ['up', '4'], ['forward', '2'], ['forward', '4'], ['forward', '1'], ['down', '6'], ['forward', '1'], ['down', '9'], ['forward', '2'], ['up', '5'], ['down', '2'], ['down', '5'], ['down', '5'], ['down', '2'], ['down', '9'], ['down', '4'], ['forward', '5'], ['down', '5'], ['up', '1'], ['forward', '4'], ['down', '6'], ['down', '5'], ['up', '8'], ['up', '4'], ['down', '8'], ['forward', '4'], ['down', '8'], ['forward', '4'], ['down', '2'], ['down', '8'], ['forward', '3'], ['forward', '7'], ['down', '1'], ['forward', '3'], ['forward', '7'], ['forward', '1'], ['down', '4'], ['forward', '2'], ['down', '3'], ['down', '4'], ['forward', '1'], ['up', '6'], ['forward', '8'], ['down', '5'], ['up', '6'], ['up', '3'], ['forward', '7'], ['down', '3'], ['forward', '4'], ['forward', '9'], ['forward', '2'], ['up', '2'], ['up', '7'], ['forward', '1'], ['up', '8'], ['down', '6'], ['up', '5'], ['down', '3'], ['up', '7'], ['down', '4'], ['up', '7'], ['down', '8'], ['down', '7'], ['forward', '5'], ['up', '7'], ['down', '1'], ['up', '9'], ['down', '2'], ['down', '8'], ['down', '5'], ['forward', '4'], ['down', '3'], ['up', '4'], ['down', '2'], ['forward', '6'], ['down', '2'], ['forward', '9'], ['up', '9'], ['up', '8'], ['forward', '3'], ['forward', '7'], ['forward', '7'], ['up', '4'], ['up', '3'], ['up', '4'], ['forward', '1'], ['down', '2'], ['up', '6'], ['down', '2'], ['down', '4'], ['up', '3'], ['down', '8'], ['down', '9'], ['down', '4'], ['forward', '6'], ['down', '5'], ['down', '5'], ['forward', '7'], ['down', '2'], ['forward', '8'], ['up', '2'], ['up', '7'], ['down', '5'], ['down', '7'], ['up', '9'], ['up', '4'], ['up', '5'], ['down', '4'], ['down', '8'], ['down', '9'], ['down', '7'], ['down', '1'], ['down', '1'], ['up', '7'], ['up', '8'], ['down', '5'], ['forward', '2'], ['up', '3'], ['down', '2'], ['down', '9'], ['down', '4'], ['forward', '1'], ['forward', '1'], ['up', '4'], ['down', '9'], ['up', '7'], ['forward', '7'], ['up', '8'], ['up', '4'], ['down', '2'], ['down', '1'], ['forward', '2'], ['up', '4'], ['down', '3'], ['up', '7'], ['down', '7'], ['down', '6'], ['down', '4'], ['up', '3'], ['down', '7'], ['forward', '5'], ['down', '6'], ['down', '9'], ['down', '3'], ['forward', '1'], ['down', '6'], ['forward', '3'], ['down', '5'], ['up', '1'], ['forward', '5'], ['forward', '4'], ['forward', '8'], ['forward', '1'], ['up', '4'], ['down', '2'], ['down', '7'], ['down', '9'], ['up', '4'], ['up', '6'], ['forward', '8'], ['up', '4'], ['down', '8'], ['forward', '7'], ['forward', '1'], ['down', '7'], ['forward', '9'], ['forward', '1'], ['forward', '7'], ['forward', '9'], ['down', '3'], ['forward', '4'], ['down', '3'], ['down', '3'], ['down', '3'], ['down', '1'], ['down', '5'], ['forward', '1'], ['forward', '7'], ['up', '5'], ['forward', '5'], ['forward', '4'], ['forward', '7'], ['down', '7'], ['up', '5'], ['forward', '1'], ['forward', '8'], ['down', '3'], ['up', '6'], ['down', '7'], ['forward', '6'], ['down', '8'], ['forward', '6'], ['up', '4'], ['down', '9'], ['up', '1'], ['forward', '4'], ['forward', '8'], ['down', '5'], ['forward', '7'], ['up', '9'], ['forward', '2'], ['up', '2'], ['forward', '7'], ['down', '3'], ['forward', '2'], ['down', '7'], ['down', '1'], ['forward', '9'], ['forward', '3'], ['up', '5'], ['forward', '7'], ['up', '4'], ['forward', '2'], ['down', '3'], ['down', '2'], ['down', '8'], ['forward', '7'], ['down', '8'], ['down', '3'], ['forward', '9'], ['forward', '9'], ['forward', '5'], ['up', '8'], ['forward', '9'], ['up', '2'], ['forward', '2'], ['up', '4'], ['forward', '2'], ['forward', '1'], ['forward', '7'], ['forward', '6'], ['down', '5'], ['forward', '5'], ['forward', '1'], ['forward', '7'], ['forward', '4'], ['down', '5'], ['down', '9'], ['down', '8'], ['forward', '5'], ['up', '5'], ['up', '1'], ['down', '8'], ['down', '9'], ['forward', '1'], ['down', '5'], ['forward', '6'], ['down', '1'], ['down', '7'], ['down', '7'], ['down', '4'], ['forward', '3'], ['down', '5'], ['down', '8'], ['forward', '2'], ['down', '4'], ['forward', '3'], ['down', '1'], ['up', '5'], ['down', '8'], ['forward', '9'], ['up', '6'], ['up', '4'], ['down', '6'], ['down', '9'], ['forward', '2'], ['forward', '5'], ['down', '3'], ['forward', '2'], ['down', '5'], ['forward', '1'], ['forward', '4'], ['down', '6'], ['down', '4'], ['up', '2'], ['down', '9'], ['forward', '2'], ['up', '8'], ['down', '4'], ['forward', '7'], ['down', '5'], ['forward', '8'], ['down', '1'], ['forward', '5'], ['down', '7'], ['up', '5'], ['down', '7'], ['down', '4'], ['forward', '3'], ['down', '1'], ['forward', '7'], ['forward', '9'], ['up', '9'], ['forward', '5'], ['forward', '8'], ['up', '8'], ['forward', '6'], ['down', '5'], ['down', '8'], ['forward', '9'], ['forward', '3'], ['down', '3'], ['forward', '9'], ['forward', '7'], ['forward', '6'], ['forward', '1'], ['up', '2'], ['forward', '8'], ['down', '9'], ['down', '5'], ['down', '5'], ['down', '4'], ['forward', '7'], ['down', '8'], ['down', '7'], ['forward', '8'], ['forward', '2'], ['down', '5'], ['forward', '2'], ['forward', '3'], ['down', '6'], ['down', '8'], ['up', '8'], ['forward', '7'], ['down', '7'], ['up', '7'], ['forward', '5'], ['up', '6'], ['forward', '7'], ['up', '6'], ['forward', '8'], ['forward', '5'], ['up', '6'], ['forward', '1'], ['down', '5'], ['forward', '1'], ['up', '5'], ['down', '1'], ['forward', '6'], ['forward', '3'], ['up', '2'], ['forward', '9'], ['forward', '8'], ['down', '9'], ['forward', '7'], ['forward', '7'], ['forward', '8'], ['up', '9'], ['down', '8'], ['up', '1'], ['down', '4'], ['forward', '2'], ['forward', '7'], ['down', '1'], ['up', '7'], ['down', '5'], ['forward', '2'], ['down', '4'], ['down', '8'], ['forward', '6'], ['down', '3'], ['forward', '8'], ['up', '6'], ['forward', '5'], ['forward', '7'], ['down', '5'], ['down', '1'], ['down', '7'], ['down', '7'], ['up', '8'], ['down', '5'], ['forward', '4'], ['down', '5'], ['down', '7'], ['down', '2'], ['up', '8'], ['forward', '6'], ['up', '1'], ['down', '3'], ['forward', '9'], ['up', '1'], ['down', '7'], ['forward', '2'], ['down', '6'], ['forward', '6'], ['up', '3'], ['up', '9'], ['up', '2'], ['forward', '4'], ['forward', '4'], ['down', '4'], ['down', '4'], ['down', '2'], ['down', '5'], ['forward', '7'], ['forward', '6'], ['forward', '9'], ['down', '9'], ['forward', '6'], ['up', '1'], ['down', '2'], ['down', '4'], ['down', '7'], ['down', '5'], ['down', '4'], ['up', '2'], ['up', '8'], ['down', '6'], ['forward', '2'], ['up', '7'], ['down', '2'], ['up', '5'], ['down', '8'], ['forward', '3'], ['up', '2'], ['forward', '3'], ['forward', '5'], ['forward', '9'], ['forward', '2'], ['forward', '8'], ['forward', '1'], ['down', '5'], ['up', '6'], ['forward', '9'], ['forward', '4'], ['up', '8'], ['down', '8'], ['up', '2'], ['down', '9'], ['down', '3'], ['down', '5'], ['up', '4'], ['forward', '2'], ['down', '5'], ['forward', '6'], ['down', '6'], ['forward', '2'], ['forward', '7'], ['forward', '6'], ['forward', '1'], ['down', '7'], ['forward', '8'], ['up', '2'], ['forward', '5'], ['forward', '5'], ['up', '3'], ['forward', '2'], ['forward', '3'], ['forward', '8'], ['forward', '4'], ['down', '1'], ['down', '9'], ['up', '5'], ['down', '5'], ['forward', '1'], ['down', '8'], ['up', '3'], ['down', '9'], ['forward', '5'], ['forward', '2'], ['forward', '2'], ['up', '1'], ['forward', '1'], ['down', '5'], ['forward', '4'], ['up', '4'], ['up', '3'], ['up', '3'], ['down', '4'], ['down', '5'], ['down', '1'], ['forward', '8'], ['down', '4'], ['up', '7'], ['down', '6'], ['forward', '5'], ['forward', '4'], ['forward', '8'], ['forward', '8'], ['up', '3'], ['forward', '7'], ['down', '4'], ['forward', '8'], ['forward', '4'], ['forward', '6'], ['down', '8'], ['down', '6'], ['down', '1'], ['forward', '4'], ['down', '8'], ['down', '6'], ['forward', '2'], ['down', '8'], ['up', '7'], ['down', '2'], ['forward', '5'], ['down', '4'], ['down', '7'], ['down', '8'], ['forward', '5'], ['down', '4'], ['down', '2'], ['down', '7'], ['down', '4'], ['forward', '7'], ['forward', '3'], ['up', '4'], ['down', '7'], ['down', '9'], ['up', '4'], ['up', '5'], ['down', '7'], ['up', '5'], ['down', '3'], ['down', '5'], ['forward', '8'], ['up', '1'], ['up', '9'], ['forward', '9'], ['forward', '7'], ['down', '2'], ['up', '1'], ['up', '7'], ['down', '3'], ['forward', '3'], ['up', '6'], ['forward', '1'], ['forward', '2'], ['down', '4'], ['down', '3'], ['forward', '4'], ['forward', '7'], ['forward', '9'], ['down', '8'], ['down', '6'], ['forward', '1'], ['forward', '3'], ['forward', '2'], ['up', '3'], ['down', '6'], ['down', '7'], ['up', '8'], ['down', '5'], ['up', '6'], ['down', '8'], ['forward', '4'], ['up', '3'], ['forward', '3'], ['forward', '4'], ['down', '5'], ['up', '5'], ['down', '4'], ['down', '5'], ['down', '5'], ['forward', '3'], ['up', '9'], ['down', '8'], ['down', '2'], ['down', '7'], ['down', '4'], ['down', '3'], ['up', '2'], ['forward', '6'], ['down', '4'], ['down', '1'], ['down', '4'], ['forward', '1'], ['forward', '8'], ['down', '3'], ['down', '7'], ['down', '3'], ['forward', '1'], ['down', '9'], ['down', '7'], ['down', '3'], ['down', '3'], ['down', '6'], ['down', '8'], ['down', '2'], ['down', '5'], ['up', '1'], ['up', '7'], ['forward', '9'], ['forward', '6'], ['forward', '7'], ['forward', '8'], ['up', '7'], ['down', '9'], ['down', '4'], ['down', '7'], ['forward', '2'], ['forward', '4'], ['forward', '1'], ['forward', '4'], ['forward', '3'], ['forward', '8'], ['down', '5'], ['forward', '8'], ['up', '4'], ['up', '9'], ['forward', '3'], ['down', '7'], ['forward', '9'], ['down', '2'], ['forward', '5'], ['up', '7'], ['down', '4'], ['down', '3'], ['down', '5'], ['down', '4'], ['forward', '9'], ['forward', '5'], ['forward', '6'], ['forward', '6'], ['down', '2'], ['down', '7'], ['forward', '4'], ['up', '5'], ['down', '8'], ['down', '9'], ['forward', '5'], ['down', '8'], ['forward', '9'], ['up', '6'], ['forward', '8'], ['forward', '7'], ['up', '7'], ['down', '9'], ['forward', '5'], ['down', '9'], ['forward', '7'], ['down', '5'], ['down', '7'], ['forward', '9'], ['forward', '4'], ['up', '1'], ['up', '9'], ['forward', '7'], ['up', '5'], ['up', '2'], ['down', '6'], ['forward', '7'], ['down', '2'], ['forward', '6'], ['forward', '7'], ['down', '4'], ['up', '3'], ['up', '9'], ['forward', '4'], ['forward', '6'], ['forward', '3'], ['up', '6'], ['down', '5'], ['up', '2'], ['forward', '3'], ['down', '5'], ['forward', '1'], ['up', '7'], ['down', '8'], ['up', '4'], ['forward', '9'], ['forward', '6'], ['down', '7'], ['forward', '4'], ['down', '9'], ['down', '8'], ['down', '7'], ['forward', '7'], ['down', '5'], ['forward', '3'], ['up', '5'], ['forward', '9'], ['forward', '7'], ['forward', '3'], ['down', '5'], ['forward', '8'], ['down', '3'], ['forward', '1'], ['down', '3'], ['down', '3'], ['forward', '2'], ['down', '4'], ['forward', '7'], ['up', '1'], ['down', '6'], ['up', '3'], ['forward', '8'], ['down', '6'], ['forward', '6'], ['down', '5'], ['down', '4'], ['forward', '3'], ['up', '1'], ['forward', '5'], ['forward', '5'], ['forward', '2'], ['up', '9'], ['forward', '3'], ['down', '5'], ['up', '3'], ['up', '4'], ['down', '7'], ['down', '4'], ['up', '3'], ['up', '3'], ['forward', '2'], ['up', '2'], ['forward', '8'], ['down', '9'], ['down', '1'], ['up', '8'], ['down', '2'], ['up', '4'], ['forward', '9'], ['up', '1'], ['down', '8'], ['forward', '3'], ['up', '9'], ['down', '7'], ['down', '5'], ['down', '9'], ['down', '1'], ['down', '2'], ['down', '9'], ['down', '4'], ['down', '8'], ['down', '8'], ['down', '9'], ['down', '2'], ['down', '6'], ['down', '9'], ['forward', '8']]\n"
          ]
        }
      ]
    },
    {
      "cell_type": "markdown",
      "metadata": {
        "id": "iAFGNlx0urAR"
      },
      "source": [
        "# **Part 1**"
      ]
    },
    {
      "cell_type": "code",
      "metadata": {
        "id": "nNEaBCrKursp",
        "colab": {
          "base_uri": "https://localhost:8080/"
        },
        "outputId": "bef77fee-7550-4565-fabc-26fbbad7311f"
      },
      "source": [
        "x = 0\n",
        "z = 0\n",
        "\n",
        "for i in lines:\n",
        "  dir = i[0]\n",
        "  dist = i[1]\n",
        "  if(dir == \"forward\"):\n",
        "    x += int(dist)\n",
        "  elif(dir == \"up\"):\n",
        "    z -= int(dist)\n",
        "  elif(dir == \"down\"):\n",
        "    z += int(dist)\n",
        "\n",
        "print(x*z)"
      ],
      "execution_count": 54,
      "outputs": [
        {
          "output_type": "stream",
          "name": "stdout",
          "text": [
            "2147104\n"
          ]
        }
      ]
    },
    {
      "cell_type": "markdown",
      "metadata": {
        "id": "LrT2FEEpur2J"
      },
      "source": [
        "# **Part 2**\n"
      ]
    },
    {
      "cell_type": "code",
      "metadata": {
        "id": "CTAEcjqOuuGa",
        "colab": {
          "base_uri": "https://localhost:8080/"
        },
        "outputId": "9fb99df0-f711-4ab7-8c84-529ccfe2fd2f"
      },
      "source": [
        "x = 0\n",
        "z = 0\n",
        "aim = 0\n",
        "\n",
        "for i in lines:\n",
        "  dir = i[0]\n",
        "  dist = i[1]\n",
        "  if(dir == \"forward\"):\n",
        "    x += int(dist)\n",
        "    z += int(dist) * int(aim)\n",
        "  elif(dir == \"up\"):\n",
        "    aim -= int(dist)\n",
        "  elif(dir == \"down\"):\n",
        "    aim += int(dist)\n",
        "\n",
        "print(x*z)"
      ],
      "execution_count": 59,
      "outputs": [
        {
          "output_type": "stream",
          "name": "stdout",
          "text": [
            "2044620088\n"
          ]
        }
      ]
    }
  ]
}