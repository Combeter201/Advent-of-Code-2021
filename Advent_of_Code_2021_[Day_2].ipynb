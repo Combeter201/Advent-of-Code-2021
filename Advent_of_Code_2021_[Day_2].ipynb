{
  "nbformat": 4,
  "nbformat_minor": 0,
  "metadata": {
    "colab": {
      "name": "Advent of Code 2021 [Day 2].ipynb",
      "provenance": [],
      "collapsed_sections": [],
      "authorship_tag": "ABX9TyPyUUoGQ+xA4HS1y1NvWMRF",
      "include_colab_link": true
    },
    "kernelspec": {
      "name": "python3",
      "display_name": "Python 3"
    },
    "language_info": {
      "name": "python"
    }
  },
  "cells": [
    {
      "cell_type": "markdown",
      "metadata": {
        "id": "view-in-github",
        "colab_type": "text"
      },
      "source": [
        "<a href=\"https://colab.research.google.com/github/Combeter201/Advent-of-Code-2021/blob/main/Advent_of_Code_2021_%5BDay_2%5D.ipynb\" target=\"_parent\"><img src=\"https://colab.research.google.com/assets/colab-badge.svg\" alt=\"Open In Colab\"/></a>"
      ]
    },
    {
      "cell_type": "markdown",
      "metadata": {
        "id": "o5i-Pa_muZrc"
      },
      "source": [
        "# **Advent of Code 2021**\n",
        "### *Day 2* 🎄"
      ]
    },
    {
      "cell_type": "code",
      "metadata": {
        "id": "zvav0jp6ujyZ"
      },
      "source": [
        "with open('input.txt') as file:\n",
        "    lines = file.read().splitlines()\n",
        "    lines = [x.split(' ') for x in lines]"
      ],
      "execution_count": null,
      "outputs": []
    },
    {
      "cell_type": "markdown",
      "metadata": {
        "id": "iAFGNlx0urAR"
      },
      "source": [
        "# **Part 1**"
      ]
    },
    {
      "cell_type": "code",
      "metadata": {
        "id": "nNEaBCrKursp",
        "colab": {
          "base_uri": "https://localhost:8080/"
        },
        "outputId": "bef77fee-7550-4565-fabc-26fbbad7311f"
      },
      "source": [
        "x = 0\n",
        "z = 0\n",
        "\n",
        "for i in lines:\n",
        "  dir = i[0]\n",
        "  dist = i[1]\n",
        "  if(dir == \"forward\"):\n",
        "    x += int(dist)\n",
        "  elif(dir == \"up\"):\n",
        "    z -= int(dist)\n",
        "  elif(dir == \"down\"):\n",
        "    z += int(dist)\n",
        "\n",
        "print(x*z)"
      ],
      "execution_count": null,
      "outputs": [
        {
          "output_type": "stream",
          "name": "stdout",
          "text": [
            "2147104\n"
          ]
        }
      ]
    },
    {
      "cell_type": "markdown",
      "metadata": {
        "id": "LrT2FEEpur2J"
      },
      "source": [
        "# **Part 2**\n"
      ]
    },
    {
      "cell_type": "code",
      "metadata": {
        "id": "CTAEcjqOuuGa",
        "colab": {
          "base_uri": "https://localhost:8080/"
        },
        "outputId": "213b3df9-7663-4b25-b43d-3658b3a01d33"
      },
      "source": [
        "x = 0\n",
        "z = 0\n",
        "aim = 0\n",
        "\n",
        "for i in lines:\n",
        "  dir = i[0]\n",
        "  dist = i[1]\n",
        "  if(dir == \"forward\"):\n",
        "    x += int(dist)\n",
        "    z += int(dist) * int(aim)\n",
        "  elif(dir == \"up\"):\n",
        "    aim -= int(dist)\n",
        "  elif(dir == \"down\"):\n",
        "    aim += int(dist)\n",
        "\n",
        "print(x*z)"
      ],
      "execution_count": null,
      "outputs": [
        {
          "output_type": "stream",
          "name": "stdout",
          "text": [
            "2044620088\n"
          ]
        }
      ]
    }
  ]
}