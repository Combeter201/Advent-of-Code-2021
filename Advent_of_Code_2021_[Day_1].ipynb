{
  "nbformat": 4,
  "nbformat_minor": 0,
  "metadata": {
    "colab": {
      "name": "Advent of Code 2021 [Day 1].ipynb",
      "provenance": [],
      "collapsed_sections": [],
      "authorship_tag": "ABX9TyMfw3YU+GYGhAojMH9IvG2D",
      "include_colab_link": true
    },
    "kernelspec": {
      "name": "python3",
      "display_name": "Python 3"
    },
    "language_info": {
      "name": "python"
    }
  },
  "cells": [
    {
      "cell_type": "markdown",
      "metadata": {
        "id": "view-in-github",
        "colab_type": "text"
      },
      "source": [
        "<a href=\"https://colab.research.google.com/github/Combeter201/Advent-of-Code-2021/blob/main/Advent_of_Code_2021_%5BDay_1%5D.ipynb\" target=\"_parent\"><img src=\"https://colab.research.google.com/assets/colab-badge.svg\" alt=\"Open In Colab\"/></a>"
      ]
    },
    {
      "cell_type": "markdown",
      "metadata": {
        "id": "D8xK-5BItdUm"
      },
      "source": [
        "# **Advent of Code 2021**\n",
        "### *Day 1* 🎄"
      ]
    },
    {
      "cell_type": "code",
      "metadata": {
        "id": "O0fP12xmXa2q"
      },
      "source": [
        "with open('input.txt') as file:\n",
        "    lines = file.readlines()\n",
        "    input = [int(i) for i in lines]"
      ],
      "execution_count": 85,
      "outputs": []
    },
    {
      "cell_type": "markdown",
      "metadata": {
        "id": "37352p1sRVNw"
      },
      "source": [
        "# **Part 1**"
      ]
    },
    {
      "cell_type": "code",
      "metadata": {
        "colab": {
          "base_uri": "https://localhost:8080/"
        },
        "id": "aJzJ_S5xNNlw",
        "outputId": "b2c9adf6-d36c-4b79-b3d7-7a1e508e3a80"
      },
      "source": [
        "count = 0\n",
        "\n",
        "for x in range(len(input)):\n",
        "  if x == len(input)-1: \n",
        "    break\n",
        "  if input[x] < input[x+1]: \n",
        "    count += 1\n",
        "print(count)"
      ],
      "execution_count": 79,
      "outputs": [
        {
          "output_type": "stream",
          "name": "stdout",
          "text": [
            "1233\n"
          ]
        }
      ]
    },
    {
      "cell_type": "markdown",
      "metadata": {
        "id": "MJSRFUEPRlJ4"
      },
      "source": [
        "# **Part 2**\n"
      ]
    },
    {
      "cell_type": "code",
      "metadata": {
        "colab": {
          "base_uri": "https://localhost:8080/"
        },
        "id": "tp_fP8zjRuAP",
        "outputId": "a1d00463-3d56-425b-c31f-8a44b4105094"
      },
      "source": [
        "threeMeasurement = 0\n",
        "\n",
        "for x in range(len(input)):\n",
        "  if x == len(input)-3: \n",
        "    break\n",
        "  sum1 = input[x] + input[x+1] + input[x+2]\n",
        "  sum2 = input[x+1] + input[x+2] + input[x+3]\n",
        "  if sum1 < sum2: \n",
        "    threeMeasurement += 1\n",
        "print(threeMeasurement)"
      ],
      "execution_count": 80,
      "outputs": [
        {
          "output_type": "stream",
          "name": "stdout",
          "text": [
            "1275\n"
          ]
        }
      ]
    }
  ]
}