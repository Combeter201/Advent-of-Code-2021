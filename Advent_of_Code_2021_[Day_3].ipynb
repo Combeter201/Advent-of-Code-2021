{
  "nbformat": 4,
  "nbformat_minor": 0,
  "metadata": {
    "colab": {
      "name": "Advent of Code 2021 [Day 3].ipynb",
      "provenance": [],
      "collapsed_sections": [],
      "authorship_tag": "ABX9TyNWXsGNrLjMCcmcr2RV5h8e",
      "include_colab_link": true
    },
    "kernelspec": {
      "name": "python3",
      "display_name": "Python 3"
    },
    "language_info": {
      "name": "python"
    }
  },
  "cells": [
    {
      "cell_type": "markdown",
      "metadata": {
        "id": "view-in-github",
        "colab_type": "text"
      },
      "source": [
        "<a href=\"https://colab.research.google.com/github/Combeter201/Advent-of-Code-2021/blob/main/Advent_of_Code_2021_%5BDay_3%5D.ipynb\" target=\"_parent\"><img src=\"https://colab.research.google.com/assets/colab-badge.svg\" alt=\"Open In Colab\"/></a>"
      ]
    },
    {
      "cell_type": "markdown",
      "metadata": {
        "id": "soJObgJi1h37"
      },
      "source": [
        "# **Advent of Code 2021**\n",
        "### *Day 3* 🎄"
      ]
    },
    {
      "cell_type": "code",
      "metadata": {
        "id": "QtI9eWr7Tb5j"
      },
      "source": [
        "with open('input.txt') as file:\n",
        "    lines = file.read().splitlines()"
      ],
      "execution_count": null,
      "outputs": []
    },
    {
      "cell_type": "markdown",
      "metadata": {
        "id": "0nNY-ET8TsEp"
      },
      "source": [
        "# **Part 1**"
      ]
    },
    {
      "cell_type": "code",
      "metadata": {
        "id": "LYZV4pbUTsgx",
        "colab": {
          "base_uri": "https://localhost:8080/"
        },
        "outputId": "686e3566-5fb9-4eff-c585-137fe73a154b"
      },
      "source": [
        "gamma_freq = {}\n",
        "epsilon_freq = {}\n",
        "for line in lines:\n",
        "  for i,c in enumerate(line):\n",
        "    if i not in gamma_freq:\n",
        "      gamma_freq[i] = 0\n",
        "      epsilon_freq[i] = 0\n",
        "    if c == '1':\n",
        "      epsilon_freq[i] += 1\n",
        "    else:\n",
        "      gamma_freq[i] += 1\n",
        "\n",
        "gamma = ''\n",
        "epsilon = ''\n",
        "for i in gamma_freq:\n",
        "  if gamma_freq[i] > epsilon_freq[i]:\n",
        "    gamma += '0'\n",
        "    epsilon += '1'\n",
        "  else:\n",
        "    gamma += '1'\n",
        "    epsilon += '0'\n",
        "    \n",
        "power = int(gamma, 2) * int(epsilon, 2)\n",
        "print(\"bin: \" + gamma + \" dec: \" + str(int(gamma, 2))\n",
        "      + \"\\nbin: \" + epsilon + \" dec: \" + str(int(epsilon, 2))\n",
        "      + \"\\npower: \" + str(power))"
      ],
      "execution_count": null,
      "outputs": [
        {
          "output_type": "stream",
          "name": "stdout",
          "text": [
            "bin: 011100011000 dec: 1816\n",
            "bin: 100011100111 dec: 2279\n",
            "power: 4138664\n"
          ]
        }
      ]
    },
    {
      "cell_type": "markdown",
      "metadata": {
        "id": "ewi28ufqTsri"
      },
      "source": [
        "# **Part 2**"
      ]
    },
    {
      "cell_type": "code",
      "metadata": {
        "colab": {
          "base_uri": "https://localhost:8080/"
        },
        "id": "UkjjD6YVsZJJ",
        "outputId": "387ca1f2-2423-4e47-ba59-e597fbae49ae"
      },
      "source": [
        "oxygen = lines\n",
        "list1 = []\n",
        "list2 = []\n",
        "search = \"0\"\n",
        "\n",
        "for i in range(len(lines[0])):\n",
        "  for line in oxygen:\n",
        "    if line.startswith(search): list1.append(line)\n",
        "    else: list2.append(line)\n",
        "  if len(list1) > len(list2): oxygen = list1\n",
        "  else: \n",
        "    oxygen = list2\n",
        "    search = search[:-1] + \"1\"\n",
        "  search += \"0\"\n",
        "  list1, list2 = [], []\n",
        "\n",
        "CO2 = lines\n",
        "search = \"0\"\n",
        "for j in range(len(lines[0])):\n",
        "  for line in CO2:\n",
        "    if line.startswith(search): list1.append(line)\n",
        "    else: list2.append(line)\n",
        "  if len(list1) < len(list2): \n",
        "    CO2 = list1\n",
        "  elif len(list1) == len(list2):\n",
        "    CO2 = list1\n",
        "  else: \n",
        "    CO2 = list2\n",
        "    search = search[:-1] + \"1\"\n",
        "  if len(list1) == 1 or len(list2) == 1: break\n",
        "  search += \"0\"\n",
        "  list1, list2 = [], []\n",
        "\n",
        "life_support = int(oxygen[0], 2) * int(CO2[0], 2)\n",
        "print(\"bin: \" + oxygen[0] + \" dec: \" + str(int(oxygen[0], 2))\n",
        "      + \"\\nbin: \" + CO2[0] + \" dec: \" + str(int(CO2[0], 2))\n",
        "      + \"\\nlife support: \" + str(life_support))"
      ],
      "execution_count": 28,
      "outputs": [
        {
          "output_type": "stream",
          "name": "stdout",
          "text": [
            "bin: 011111101111 dec: 2031\n",
            "bin: 100000111000 dec: 2104\n",
            "life support: 4273224\n"
          ]
        }
      ]
    }
  ]
}